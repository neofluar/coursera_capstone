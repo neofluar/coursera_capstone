{
 "cells": [
  {
   "cell_type": "markdown",
   "metadata": {},
   "source": [
    "# Collecting Neighborhoods in Toronto"
   ]
  },
  {
   "cell_type": "markdown",
   "metadata": {},
   "source": [
    "## 1. Collecting Neighborhoods"
   ]
  },
  {
   "cell_type": "markdown",
   "metadata": {},
   "source": [
    "Let's create a webscrapping script to collect Toronto neighborhoods information from the table on https://en.wikipedia.org/wiki/List_of_postal_codes_of_Canada:_M with following columns: PostalCode, Borough, and Neighborhood."
   ]
  },
  {
   "cell_type": "markdown",
   "metadata": {},
   "source": [
    "Inporting corresponding modules for webscrapping:"
   ]
  },
  {
   "cell_type": "code",
   "execution_count": 48,
   "metadata": {},
   "outputs": [],
   "source": [
    "import requests, bs4\n",
    "\n",
    "# Download the webpage\n",
    "url = 'https://en.wikipedia.org/wiki/List_of_postal_codes_of_Canada:_M'\n",
    "res = requests.get(url)\n",
    "res.raise_for_status()"
   ]
  },
  {
   "cell_type": "code",
   "execution_count": 49,
   "metadata": {},
   "outputs": [],
   "source": [
    "# Create an beautifulSoup object\n",
    "toronto_soup = bs4.BeautifulSoup(res.text)"
   ]
  },
  {
   "cell_type": "code",
   "execution_count": 50,
   "metadata": {},
   "outputs": [],
   "source": [
    "# Selecting all elements inside the corresponding tags\n",
    "elements = toronto_soup.select('div table tbody tr td')"
   ]
  },
  {
   "cell_type": "code",
   "execution_count": 51,
   "metadata": {},
   "outputs": [
    {
     "name": "stdout",
     "output_type": "stream",
     "text": [
      "1 | M1A | Not assigned | Not assigned\n",
      "2 | M2A | Not assigned | Not assigned\n",
      "3 | M3A | North York | Parkwoods\n",
      "4 | M4A | North York | Victoria Village\n",
      "5 | M5A | Downtown Toronto | Harbourfront\n",
      "6 | M5A | Downtown Toronto | Regent Park\n",
      "7 | M6A | North York | Lawrence Heights\n",
      "8 | M6A | North York | Lawrence Manor\n",
      "9 | M7A | Queen's Park | Not assigned\n",
      "10 | M8A | Not assigned | Not assigned\n",
      "11 | M9A | Etobicoke | Islington Avenue\n",
      "12 | M1B | Scarborough | Rouge\n",
      "13 | M1B | Scarborough | Malvern\n",
      "14 | M2B | Not assigned | Not assigned\n",
      "15 | M3B | North York | Don Mills North\n",
      "16 | M4B | East York | Woodbine Gardens\n",
      "17 | M4B | East York | Parkview Hill\n",
      "18 | M5B | Downtown Toronto | Ryerson\n",
      "19 | M5B | Downtown Toronto | Garden District\n",
      "20 | M6B | North York | Glencairn\n",
      "21 | M7B | Not assigned | Not assigned\n",
      "22 | M8B | Not assigned | Not assigned\n",
      "23 | M9B | Etobicoke | Cloverdale\n",
      "24 | M9B | Etobicoke | Islington\n",
      "25 | M9B | Etobicoke | Martin Grove\n",
      "26 | M9B | Etobicoke | Princess Gardens\n",
      "27 | M9B | Etobicoke | West Deane Park\n",
      "28 | M1C | Scarborough | Highland Creek\n",
      "29 | M1C | Scarborough | Rouge Hill\n",
      "30 | M1C | Scarborough | Port Union\n",
      "31 | M2C | Not assigned | Not assigned\n",
      "32 | M3C | North York | Flemingdon Park\n",
      "33 | M3C | North York | Don Mills South\n",
      "34 | M4C | East York | Woodbine Heights\n",
      "35 | M5C | Downtown Toronto | St. James Town\n",
      "36 | M6C | York | Humewood-Cedarvale\n",
      "37 | M7C | Not assigned | Not assigned\n",
      "38 | M8C | Not assigned | Not assigned\n",
      "39 | M9C | Etobicoke | Bloordale Gardens\n",
      "40 | M9C | Etobicoke | Eringate\n",
      "41 | M9C | Etobicoke | Markland Wood\n",
      "42 | M9C | Etobicoke | Old Burnhamthorpe\n",
      "43 | M1E | Scarborough | Guildwood\n",
      "44 | M1E | Scarborough | Morningside\n",
      "45 | M1E | Scarborough | West Hill\n",
      "46 | M2E | Not assigned | Not assigned\n",
      "47 | M3E | Not assigned | Not assigned\n",
      "48 | M4E | East Toronto | The Beaches\n",
      "49 | M5E | Downtown Toronto | Berczy Park\n",
      "50 | M6E | York | Caledonia-Fairbanks\n",
      "51 | M7E | Not assigned | Not assigned\n",
      "52 | M8E | Not assigned | Not assigned\n",
      "53 | M9E | Not assigned | Not assigned\n",
      "54 | M1G | Scarborough | Woburn\n",
      "55 | M2G | Not assigned | Not assigned\n",
      "56 | M3G | Not assigned | Not assigned\n",
      "57 | M4G | East York | Leaside\n",
      "58 | M5G | Downtown Toronto | Central Bay Street\n",
      "59 | M6G | Downtown Toronto | Christie\n",
      "60 | M7G | Not assigned | Not assigned\n",
      "61 | M8G | Not assigned | Not assigned\n",
      "62 | M9G | Not assigned | Not assigned\n",
      "63 | M1H | Scarborough | Cedarbrae\n",
      "64 | M2H | North York | Hillcrest Village\n",
      "65 | M3H | North York | Bathurst Manor\n",
      "66 | M3H | North York | Downsview North\n",
      "67 | M3H | North York | Wilson Heights\n",
      "68 | M4H | East York | Thorncliffe Park\n",
      "69 | M5H | Downtown Toronto | Adelaide\n",
      "70 | M5H | Downtown Toronto | King\n",
      "71 | M5H | Downtown Toronto | Richmond\n",
      "72 | M6H | West Toronto | Dovercourt Village\n",
      "73 | M6H | West Toronto | Dufferin\n",
      "74 | M7H | Not assigned | Not assigned\n",
      "75 | M8H | Not assigned | Not assigned\n",
      "76 | M9H | Not assigned | Not assigned\n",
      "77 | M1J | Scarborough | Scarborough Village\n",
      "78 | M2J | North York | Fairview\n",
      "79 | M2J | North York | Henry Farm\n",
      "80 | M2J | North York | Oriole\n",
      "81 | M3J | North York | Northwood Park\n",
      "82 | M3J | North York | York University\n",
      "83 | M4J | East York | East Toronto\n",
      "84 | M5J | Downtown Toronto | Harbourfront East\n",
      "85 | M5J | Downtown Toronto | Toronto Islands\n",
      "86 | M5J | Downtown Toronto | Union Station\n",
      "87 | M6J | West Toronto | Little Portugal\n",
      "88 | M6J | West Toronto | Trinity\n",
      "89 | M7J | Not assigned | Not assigned\n",
      "90 | M8J | Not assigned | Not assigned\n",
      "91 | M9J | Not assigned | Not assigned\n",
      "92 | M1K | Scarborough | East Birchmount Park\n",
      "93 | M1K | Scarborough | Ionview\n",
      "94 | M1K | Scarborough | Kennedy Park\n",
      "95 | M2K | North York | Bayview Village\n",
      "96 | M3K | North York | CFB Toronto\n",
      "97 | M3K | North York | Downsview East\n",
      "98 | M4K | East Toronto | The Danforth West\n",
      "99 | M4K | East Toronto | Riverdale\n",
      "100 | M5K | Downtown Toronto | Design Exchange\n",
      "101 | M5K | Downtown Toronto | Toronto Dominion Centre\n",
      "102 | M6K | West Toronto | Brockton\n",
      "103 | M6K | West Toronto | Exhibition Place\n",
      "104 | M6K | West Toronto | Parkdale Village\n",
      "105 | M7K | Not assigned | Not assigned\n",
      "106 | M8K | Not assigned | Not assigned\n",
      "107 | M9K | Not assigned | Not assigned\n",
      "108 | M1L | Scarborough | Clairlea\n",
      "109 | M1L | Scarborough | Golden Mile\n",
      "110 | M1L | Scarborough | Oakridge\n",
      "111 | M2L | North York | Silver Hills\n",
      "112 | M2L | North York | York Mills\n",
      "113 | M3L | North York | Downsview West\n",
      "114 | M4L | East Toronto | The Beaches West\n",
      "115 | M4L | East Toronto | India Bazaar\n",
      "116 | M5L | Downtown Toronto | Commerce Court\n",
      "117 | M5L | Downtown Toronto | Victoria Hotel\n",
      "118 | M6L | North York | Maple Leaf Park\n",
      "119 | M6L | North York | North Park\n",
      "120 | M6L | North York | Upwood Park\n",
      "121 | M7L | Not assigned | Not assigned\n",
      "122 | M8L | Not assigned | Not assigned\n",
      "123 | M9L | North York | Humber Summit\n",
      "124 | M1M | Scarborough | Cliffcrest\n",
      "125 | M1M | Scarborough | Cliffside\n",
      "126 | M1M | Scarborough | Scarborough Village West\n",
      "127 | M2M | North York | Newtonbrook\n",
      "128 | M2M | North York | Willowdale\n",
      "129 | M3M | North York | Downsview Central\n",
      "130 | M4M | East Toronto | Studio District\n",
      "131 | M5M | North York | Bedford Park\n",
      "132 | M5M | North York | Lawrence Manor East\n",
      "133 | M6M | York | Del Ray\n",
      "134 | M6M | York | Keelesdale\n",
      "135 | M6M | York | Mount Dennis\n",
      "136 | M6M | York | Silverthorn\n",
      "137 | M7M | Not assigned | Not assigned\n",
      "138 | M8M | Not assigned | Not assigned\n",
      "139 | M9M | North York | Emery\n",
      "140 | M9M | North York | Humberlea\n",
      "141 | M1N | Scarborough | Birch Cliff\n",
      "142 | M1N | Scarborough | Cliffside West\n",
      "143 | M2N | North York | Willowdale South\n",
      "144 | M3N | North York | Downsview Northwest\n",
      "145 | M4N | Central Toronto | Lawrence Park\n",
      "146 | M5N | Central Toronto | Roselawn\n",
      "147 | M6N | York | The Junction North\n",
      "148 | M6N | York | Runnymede\n",
      "149 | M7N | Not assigned | Not assigned\n",
      "150 | M8N | Not assigned | Not assigned\n",
      "151 | M9N | York | Weston\n",
      "152 | M1P | Scarborough | Dorset Park\n",
      "153 | M1P | Scarborough | Scarborough Town Centre\n",
      "154 | M1P | Scarborough | Wexford Heights\n",
      "155 | M2P | North York | York Mills West\n",
      "156 | M3P | Not assigned | Not assigned\n",
      "157 | M4P | Central Toronto | Davisville North\n",
      "158 | M5P | Central Toronto | Forest Hill North\n",
      "159 | M5P | Central Toronto | Forest Hill West\n",
      "160 | M6P | West Toronto | High Park\n",
      "161 | M6P | West Toronto | The Junction South\n",
      "162 | M7P | Not assigned | Not assigned\n",
      "163 | M8P | Not assigned | Not assigned\n",
      "164 | M9P | Etobicoke | Westmount\n",
      "165 | M1R | Scarborough | Maryvale\n",
      "166 | M1R | Scarborough | Wexford\n",
      "167 | M2R | North York | Willowdale West\n",
      "168 | M3R | Not assigned | Not assigned\n",
      "169 | M4R | Central Toronto | North Toronto West\n",
      "170 | M5R | Central Toronto | The Annex\n",
      "171 | M5R | Central Toronto | North Midtown\n",
      "172 | M5R | Central Toronto | Yorkville\n",
      "173 | M6R | West Toronto | Parkdale\n",
      "174 | M6R | West Toronto | Roncesvalles\n",
      "175 | M7R | Mississauga | Canada Post Gateway Processing Centre\n",
      "176 | M8R | Not assigned | Not assigned\n",
      "177 | M9R | Etobicoke | Kingsview Village\n",
      "178 | M9R | Etobicoke | Martin Grove Gardens\n",
      "179 | M9R | Etobicoke | Richview Gardens\n",
      "180 | M9R | Etobicoke | St. Phillips\n",
      "181 | M1S | Scarborough | Agincourt\n",
      "182 | M2S | Not assigned | Not assigned\n",
      "183 | M3S | Not assigned | Not assigned\n",
      "184 | M4S | Central Toronto | Davisville\n",
      "185 | M5S | Downtown Toronto | Harbord\n",
      "186 | M5S | Downtown Toronto | University of Toronto\n",
      "187 | M6S | West Toronto | Runnymede\n",
      "188 | M6S | West Toronto | Swansea\n",
      "189 | M7S | Not assigned | Not assigned\n",
      "190 | M8S | Not assigned | Not assigned\n",
      "191 | M9S | Not assigned | Not assigned\n",
      "192 | M1T | Scarborough | Clarks Corners\n",
      "193 | M1T | Scarborough | Sullivan\n",
      "194 | M1T | Scarborough | Tam O'Shanter\n",
      "195 | M2T | Not assigned | Not assigned\n",
      "196 | M3T | Not assigned | Not assigned\n",
      "197 | M4T | Central Toronto | Moore Park\n",
      "198 | M4T | Central Toronto | Summerhill East\n",
      "199 | M5T | Downtown Toronto | Chinatown\n",
      "200 | M5T | Downtown Toronto | Grange Park\n",
      "201 | M5T | Downtown Toronto | Kensington Market\n",
      "202 | M6T | Not assigned | Not assigned\n",
      "203 | M7T | Not assigned | Not assigned\n",
      "204 | M8T | Not assigned | Not assigned\n",
      "205 | M9T | Not assigned | Not assigned\n",
      "206 | M1V | Scarborough | Agincourt North\n",
      "207 | M1V | Scarborough | L'Amoreaux East\n",
      "208 | M1V | Scarborough | Milliken\n",
      "209 | M1V | Scarborough | Steeles East\n",
      "210 | M2V | Not assigned | Not assigned\n",
      "211 | M3V | Not assigned | Not assigned\n",
      "212 | M4V | Central Toronto | Deer Park\n",
      "213 | M4V | Central Toronto | Forest Hill SE\n",
      "214 | M4V | Central Toronto | Rathnelly\n",
      "215 | M4V | Central Toronto | South Hill\n",
      "216 | M4V | Central Toronto | Summerhill West\n",
      "217 | M5V | Downtown Toronto | CN Tower\n",
      "218 | M5V | Downtown Toronto | Bathurst Quay\n",
      "219 | M5V | Downtown Toronto | Island airport\n",
      "220 | M5V | Downtown Toronto | Harbourfront West\n",
      "221 | M5V | Downtown Toronto | King and Spadina\n",
      "222 | M5V | Downtown Toronto | Railway Lands\n",
      "223 | M5V | Downtown Toronto | South Niagara\n",
      "224 | M6V | Not assigned | Not assigned\n",
      "225 | M7V | Not assigned | Not assigned\n",
      "226 | M8V | Etobicoke | Humber Bay Shores\n",
      "227 | M8V | Etobicoke | Mimico South\n",
      "228 | M8V | Etobicoke | New Toronto\n",
      "229 | M9V | Etobicoke | Albion Gardens\n",
      "230 | M9V | Etobicoke | Beaumond Heights\n",
      "231 | M9V | Etobicoke | Humbergate\n",
      "232 | M9V | Etobicoke | Jamestown\n",
      "233 | M9V | Etobicoke | Mount Olive\n",
      "234 | M9V | Etobicoke | Silverstone\n",
      "235 | M9V | Etobicoke | South Steeles\n",
      "236 | M9V | Etobicoke | Thistletown\n",
      "237 | M1W | Scarborough | L'Amoreaux West\n",
      "238 | M1W | Scarborough | Steeles West\n",
      "239 | M2W | Not assigned | Not assigned\n",
      "240 | M3W | Not assigned | Not assigned\n",
      "241 | M4W | Downtown Toronto | Rosedale\n",
      "242 | M5W | Downtown Toronto | Stn A PO Boxes 25 The Esplanade\n",
      "243 | M6W | Not assigned | Not assigned\n",
      "244 | M7W | Not assigned | Not assigned\n",
      "245 | M8W | Etobicoke | Alderwood\n",
      "246 | M8W | Etobicoke | Long Branch\n",
      "247 | M9W | Etobicoke | Northwest\n",
      "248 | M1X | Scarborough | Upper Rouge\n",
      "249 | M2X | Not assigned | Not assigned\n",
      "250 | M3X | Not assigned | Not assigned\n",
      "251 | M4X | Downtown Toronto | Cabbagetown\n",
      "252 | M4X | Downtown Toronto | St. James Town\n",
      "253 | M5X | Downtown Toronto | First Canadian Place\n",
      "254 | M5X | Downtown Toronto | Underground city\n",
      "255 | M6X | Not assigned | Not assigned\n",
      "256 | M7X | Not assigned | Not assigned\n",
      "257 | M8X | Etobicoke | The Kingsway\n",
      "258 | M8X | Etobicoke | Montgomery Road\n",
      "259 | M8X | Etobicoke | Old Mill North\n",
      "260 | M9X | Not assigned | Not assigned\n",
      "261 | M1Y | Not assigned | Not assigned\n",
      "262 | M2Y | Not assigned | Not assigned\n",
      "263 | M3Y | Not assigned | Not assigned\n",
      "264 | M4Y | Downtown Toronto | Church and Wellesley\n",
      "265 | M5Y | Not assigned | Not assigned\n",
      "266 | M6Y | Not assigned | Not assigned\n",
      "267 | M7Y | East Toronto | Business Reply Mail Processing Centre 969 Eastern\n",
      "268 | M8Y | Etobicoke | Humber Bay\n",
      "269 | M8Y | Etobicoke | King's Mill Park\n",
      "270 | M8Y | Etobicoke | Kingsway Park South East\n",
      "271 | M8Y | Etobicoke | Mimico NE\n",
      "272 | M8Y | Etobicoke | Old Mill South\n",
      "273 | M8Y | Etobicoke | The Queensway East\n",
      "274 | M8Y | Etobicoke | Royal York South East\n",
      "275 | M8Y | Etobicoke | Sunnylea\n",
      "276 | M9Y | Not assigned | Not assigned\n",
      "277 | M1Z | Not assigned | Not assigned\n",
      "278 | M2Z | Not assigned | Not assigned\n",
      "279 | M3Z | Not assigned | Not assigned\n",
      "280 | M4Z | Not assigned | Not assigned\n",
      "281 | M5Z | Not assigned | Not assigned\n",
      "282 | M6Z | Not assigned | Not assigned\n",
      "283 | M7Z | Not assigned | Not assigned\n",
      "284 | M8Z | Etobicoke | Kingsway Park South West\n",
      "285 | M8Z | Etobicoke | Mimico NW\n",
      "286 | M8Z | Etobicoke | The Queensway West\n",
      "287 | M8Z | Etobicoke | Royal York South West\n",
      "288 | M8Z | Etobicoke | South of Bloor\n",
      "289 | M9Z | Not assigned | Not assigned\n"
     ]
    }
   ],
   "source": [
    "# Printing what we found\n",
    "for i in range(0, len(elements), 3):\n",
    "    print('{} | {} | {} | {}'.format(str(i//3+1), elements[i].getText(), elements[i+1].getText(), elements[i+2].getText()[:-1]))\n",
    "    if elements[i].getText() == 'M9Z': # The last postal code on the table\n",
    "        break"
   ]
  },
  {
   "cell_type": "markdown",
   "metadata": {},
   "source": [
    "## 2. Creating Toronto DataFrame"
   ]
  },
  {
   "cell_type": "code",
   "execution_count": 52,
   "metadata": {},
   "outputs": [
    {
     "data": {
      "text/plain": [
       "<td>M9Z</td>"
      ]
     },
     "execution_count": 52,
     "metadata": {},
     "output_type": "execute_result"
    }
   ],
   "source": [
    "elements[864] "
   ]
  },
  {
   "cell_type": "markdown",
   "metadata": {},
   "source": [
    "At the previous step we found 289 rows with data. The last postal code in the table is 'M9Z' and its index in _elements_ list is 864.\n",
    "Let's transform the list, considering assignment rules: \n",
    "1. Ignore postal codes with a borough that is 'Not assigned'.\n",
    "2. If neighborhood is 'Not assigned', assign it with a corresponding borough."
   ]
  },
  {
   "cell_type": "code",
   "execution_count": 53,
   "metadata": {},
   "outputs": [
    {
     "data": {
      "text/plain": [
       "[['M3A', 'North York', 'Parkwoods'],\n",
       " ['M4A', 'North York', 'Victoria Village'],\n",
       " ['M5A', 'Downtown Toronto', 'Harbourfront'],\n",
       " ['M5A', 'Downtown Toronto', 'Regent Park'],\n",
       " ['M6A', 'North York', 'Lawrence Heights'],\n",
       " ['M6A', 'North York', 'Lawrence Manor'],\n",
       " ['M7A', \"Queen's Park\", \"Queen's Park\"],\n",
       " ['M9A', 'Etobicoke', 'Islington Avenue'],\n",
       " ['M1B', 'Scarborough', 'Rouge'],\n",
       " ['M1B', 'Scarborough', 'Malvern']]"
      ]
     },
     "execution_count": 53,
     "metadata": {},
     "output_type": "execute_result"
    }
   ],
   "source": [
    "# Creating a new list of rows\n",
    "lst = []\n",
    "for i in range(0, 865, 3):\n",
    "    postal_code, borough, neighborhood = elements[i].getText(), elements[i+1].getText(), elements[i+2].getText()[:-1]\n",
    "    if borough == 'Not assigned':\n",
    "        continue\n",
    "    if neighborhood == 'Not assigned':\n",
    "        neighborhood = borough      \n",
    "    lst.append([postal_code, borough, neighborhood])\n",
    "lst[:10]"
   ]
  },
  {
   "cell_type": "code",
   "execution_count": 54,
   "metadata": {},
   "outputs": [
    {
     "name": "stdout",
     "output_type": "stream",
     "text": [
      "Now we have 212 rows of relevant data.\n"
     ]
    }
   ],
   "source": [
    "print('Now we have {} rows of relevant data.'.format(len(lst)))"
   ]
  },
  {
   "cell_type": "markdown",
   "metadata": {},
   "source": [
    "But there is the third rule: neighborhoods with the same borough and postal code should be combined in the only row. Since the combined rows should not be processed again, we create row_to_skip list. Also we will need a dictionary to convert into a pandas DataFrame later."
   ]
  },
  {
   "cell_type": "code",
   "execution_count": 55,
   "metadata": {},
   "outputs": [
    {
     "name": "stdout",
     "output_type": "stream",
     "text": [
      "toronto_data dictionary has been created!\n"
     ]
    }
   ],
   "source": [
    "# Creating a dictionary\n",
    "toronto_data = {'PostalCode': [], 'Borough': [], 'Neighborhood': []}\n",
    "\n",
    "# Apply the rule #3 and populate the dictionary\n",
    "row_to_skip = [False]*len(lst)\n",
    "for i in range(len(lst)):\n",
    "    if row_to_skip[i]:\n",
    "        continue\n",
    "    p, b, h = lst[i][0], lst[i][1], lst[i][2]\n",
    "    for j in range(i+1, len(lst)): # start from i+1 because the postal codes in lst is in ascending order\n",
    "        if row_to_skip[j]:\n",
    "            continue\n",
    "        if lst[j][0] == p and lst[j][1] == b:\n",
    "            h += ', {}'.format(lst[j][2])\n",
    "            row_to_skip[j] = True\n",
    "            \n",
    "    toronto_data['PostalCode'].append(p)\n",
    "    toronto_data['Borough'].append(b)\n",
    "    toronto_data['Neighborhood'].append(h)\n",
    "    \n",
    "print('toronto_data dictionary has been created!')"
   ]
  },
  {
   "cell_type": "markdown",
   "metadata": {},
   "source": [
    "Now we are ready to achive our first intermediate goal - **Toronto DataFrame**."
   ]
  },
  {
   "cell_type": "code",
   "execution_count": 56,
   "metadata": {},
   "outputs": [
    {
     "data": {
      "text/html": [
       "<div>\n",
       "<style scoped>\n",
       "    .dataframe tbody tr th:only-of-type {\n",
       "        vertical-align: middle;\n",
       "    }\n",
       "\n",
       "    .dataframe tbody tr th {\n",
       "        vertical-align: top;\n",
       "    }\n",
       "\n",
       "    .dataframe thead th {\n",
       "        text-align: right;\n",
       "    }\n",
       "</style>\n",
       "<table border=\"1\" class=\"dataframe\">\n",
       "  <thead>\n",
       "    <tr style=\"text-align: right;\">\n",
       "      <th></th>\n",
       "      <th>PostalCode</th>\n",
       "      <th>Borough</th>\n",
       "      <th>Neighborhood</th>\n",
       "    </tr>\n",
       "  </thead>\n",
       "  <tbody>\n",
       "    <tr>\n",
       "      <th>0</th>\n",
       "      <td>M3A</td>\n",
       "      <td>North York</td>\n",
       "      <td>Parkwoods</td>\n",
       "    </tr>\n",
       "    <tr>\n",
       "      <th>1</th>\n",
       "      <td>M4A</td>\n",
       "      <td>North York</td>\n",
       "      <td>Victoria Village</td>\n",
       "    </tr>\n",
       "    <tr>\n",
       "      <th>2</th>\n",
       "      <td>M5A</td>\n",
       "      <td>Downtown Toronto</td>\n",
       "      <td>Harbourfront, Regent Park</td>\n",
       "    </tr>\n",
       "    <tr>\n",
       "      <th>3</th>\n",
       "      <td>M6A</td>\n",
       "      <td>North York</td>\n",
       "      <td>Lawrence Heights, Lawrence Manor</td>\n",
       "    </tr>\n",
       "    <tr>\n",
       "      <th>4</th>\n",
       "      <td>M7A</td>\n",
       "      <td>Queen's Park</td>\n",
       "      <td>Queen's Park</td>\n",
       "    </tr>\n",
       "  </tbody>\n",
       "</table>\n",
       "</div>"
      ],
      "text/plain": [
       "  PostalCode           Borough                      Neighborhood\n",
       "0        M3A        North York                         Parkwoods\n",
       "1        M4A        North York                  Victoria Village\n",
       "2        M5A  Downtown Toronto         Harbourfront, Regent Park\n",
       "3        M6A        North York  Lawrence Heights, Lawrence Manor\n",
       "4        M7A      Queen's Park                      Queen's Park"
      ]
     },
     "execution_count": 56,
     "metadata": {},
     "output_type": "execute_result"
    }
   ],
   "source": [
    "# Importing the module\n",
    "import pandas as pd\n",
    "\n",
    "toronto_df = pd.DataFrame(data=toronto_data)\n",
    "toronto_df.head()"
   ]
  },
  {
   "cell_type": "code",
   "execution_count": 57,
   "metadata": {},
   "outputs": [
    {
     "name": "stdout",
     "output_type": "stream",
     "text": [
      "Toronto DataFrame has 103 data rows.\n"
     ]
    }
   ],
   "source": [
    "print('Toronto DataFrame has {} data rows.'.format(toronto_df.shape[0]))"
   ]
  },
  {
   "cell_type": "code",
   "execution_count": null,
   "metadata": {},
   "outputs": [],
   "source": []
  }
 ],
 "metadata": {
  "kernelspec": {
   "display_name": "Python 3",
   "language": "python",
   "name": "python3"
  },
  "language_info": {
   "codemirror_mode": {
    "name": "ipython",
    "version": 3
   },
   "file_extension": ".py",
   "mimetype": "text/x-python",
   "name": "python",
   "nbconvert_exporter": "python",
   "pygments_lexer": "ipython3",
   "version": "3.6.5"
  }
 },
 "nbformat": 4,
 "nbformat_minor": 2
}
